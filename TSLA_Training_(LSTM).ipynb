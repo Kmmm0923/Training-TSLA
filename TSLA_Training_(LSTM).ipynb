{
  "nbformat": 4,
  "nbformat_minor": 0,
  "metadata": {
    "colab": {
      "provenance": []
    },
    "kernelspec": {
      "name": "python3",
      "display_name": "Python 3"
    },
    "language_info": {
      "name": "python"
    }
  },
  "cells": [
    {
      "cell_type": "markdown",
      "source": [
        "<a href=\"https://colab.research.google.com/github/Kmmm0923/Training-TSLA/blob/9b1ae17982c45ec22e4a87a077a56b9e23428ee1/TSLA_Training_Simple.ipynb\" target=\"_parent\">\n",
        "<img src=\"https://colab.research.google.com/assets/colab-badge.svg\" \n",
        "alt=\"Open In Colab\"/></a>"
      ],
      "metadata": {
        "id": "UTbRt9PDVA7O"
      }
    },
    {
      "cell_type": "code",
      "execution_count": 19,
      "metadata": {
        "id": "7S1_aW9ZUhLv"
      },
      "outputs": [],
      "source": [
        "import csv\n",
        "import pickle\n",
        "import numpy as np\n",
        "import pandas as pd\n",
        "import tensorflow as tf\n",
        "import matplotlib.pyplot as plt\n",
        "from dataclasses import dataclass \n",
        "from sklearn.preprocessing import MinMaxScaler"
      ]
    },
    {
      "cell_type": "code",
      "source": [
        "from google.colab import files\n",
        "uploaded = files.upload()"
      ],
      "metadata": {
        "colab": {
          "base_uri": "https://localhost:8080/",
          "height": 73
        },
        "id": "F2SMTqTmVIt8",
        "outputId": "f73e8b46-01ac-4e65-ee5c-3391a3ed4830"
      },
      "execution_count": 20,
      "outputs": [
        {
          "output_type": "display_data",
          "data": {
            "text/plain": [
              "<IPython.core.display.HTML object>"
            ],
            "text/html": [
              "\n",
              "     <input type=\"file\" id=\"files-5deb12f0-0160-45e6-8a9c-452565b24130\" name=\"files[]\" multiple disabled\n",
              "        style=\"border:none\" />\n",
              "     <output id=\"result-5deb12f0-0160-45e6-8a9c-452565b24130\">\n",
              "      Upload widget is only available when the cell has been executed in the\n",
              "      current browser session. Please rerun this cell to enable.\n",
              "      </output>\n",
              "      <script>// Copyright 2017 Google LLC\n",
              "//\n",
              "// Licensed under the Apache License, Version 2.0 (the \"License\");\n",
              "// you may not use this file except in compliance with the License.\n",
              "// You may obtain a copy of the License at\n",
              "//\n",
              "//      http://www.apache.org/licenses/LICENSE-2.0\n",
              "//\n",
              "// Unless required by applicable law or agreed to in writing, software\n",
              "// distributed under the License is distributed on an \"AS IS\" BASIS,\n",
              "// WITHOUT WARRANTIES OR CONDITIONS OF ANY KIND, either express or implied.\n",
              "// See the License for the specific language governing permissions and\n",
              "// limitations under the License.\n",
              "\n",
              "/**\n",
              " * @fileoverview Helpers for google.colab Python module.\n",
              " */\n",
              "(function(scope) {\n",
              "function span(text, styleAttributes = {}) {\n",
              "  const element = document.createElement('span');\n",
              "  element.textContent = text;\n",
              "  for (const key of Object.keys(styleAttributes)) {\n",
              "    element.style[key] = styleAttributes[key];\n",
              "  }\n",
              "  return element;\n",
              "}\n",
              "\n",
              "// Max number of bytes which will be uploaded at a time.\n",
              "const MAX_PAYLOAD_SIZE = 100 * 1024;\n",
              "\n",
              "function _uploadFiles(inputId, outputId) {\n",
              "  const steps = uploadFilesStep(inputId, outputId);\n",
              "  const outputElement = document.getElementById(outputId);\n",
              "  // Cache steps on the outputElement to make it available for the next call\n",
              "  // to uploadFilesContinue from Python.\n",
              "  outputElement.steps = steps;\n",
              "\n",
              "  return _uploadFilesContinue(outputId);\n",
              "}\n",
              "\n",
              "// This is roughly an async generator (not supported in the browser yet),\n",
              "// where there are multiple asynchronous steps and the Python side is going\n",
              "// to poll for completion of each step.\n",
              "// This uses a Promise to block the python side on completion of each step,\n",
              "// then passes the result of the previous step as the input to the next step.\n",
              "function _uploadFilesContinue(outputId) {\n",
              "  const outputElement = document.getElementById(outputId);\n",
              "  const steps = outputElement.steps;\n",
              "\n",
              "  const next = steps.next(outputElement.lastPromiseValue);\n",
              "  return Promise.resolve(next.value.promise).then((value) => {\n",
              "    // Cache the last promise value to make it available to the next\n",
              "    // step of the generator.\n",
              "    outputElement.lastPromiseValue = value;\n",
              "    return next.value.response;\n",
              "  });\n",
              "}\n",
              "\n",
              "/**\n",
              " * Generator function which is called between each async step of the upload\n",
              " * process.\n",
              " * @param {string} inputId Element ID of the input file picker element.\n",
              " * @param {string} outputId Element ID of the output display.\n",
              " * @return {!Iterable<!Object>} Iterable of next steps.\n",
              " */\n",
              "function* uploadFilesStep(inputId, outputId) {\n",
              "  const inputElement = document.getElementById(inputId);\n",
              "  inputElement.disabled = false;\n",
              "\n",
              "  const outputElement = document.getElementById(outputId);\n",
              "  outputElement.innerHTML = '';\n",
              "\n",
              "  const pickedPromise = new Promise((resolve) => {\n",
              "    inputElement.addEventListener('change', (e) => {\n",
              "      resolve(e.target.files);\n",
              "    });\n",
              "  });\n",
              "\n",
              "  const cancel = document.createElement('button');\n",
              "  inputElement.parentElement.appendChild(cancel);\n",
              "  cancel.textContent = 'Cancel upload';\n",
              "  const cancelPromise = new Promise((resolve) => {\n",
              "    cancel.onclick = () => {\n",
              "      resolve(null);\n",
              "    };\n",
              "  });\n",
              "\n",
              "  // Wait for the user to pick the files.\n",
              "  const files = yield {\n",
              "    promise: Promise.race([pickedPromise, cancelPromise]),\n",
              "    response: {\n",
              "      action: 'starting',\n",
              "    }\n",
              "  };\n",
              "\n",
              "  cancel.remove();\n",
              "\n",
              "  // Disable the input element since further picks are not allowed.\n",
              "  inputElement.disabled = true;\n",
              "\n",
              "  if (!files) {\n",
              "    return {\n",
              "      response: {\n",
              "        action: 'complete',\n",
              "      }\n",
              "    };\n",
              "  }\n",
              "\n",
              "  for (const file of files) {\n",
              "    const li = document.createElement('li');\n",
              "    li.append(span(file.name, {fontWeight: 'bold'}));\n",
              "    li.append(span(\n",
              "        `(${file.type || 'n/a'}) - ${file.size} bytes, ` +\n",
              "        `last modified: ${\n",
              "            file.lastModifiedDate ? file.lastModifiedDate.toLocaleDateString() :\n",
              "                                    'n/a'} - `));\n",
              "    const percent = span('0% done');\n",
              "    li.appendChild(percent);\n",
              "\n",
              "    outputElement.appendChild(li);\n",
              "\n",
              "    const fileDataPromise = new Promise((resolve) => {\n",
              "      const reader = new FileReader();\n",
              "      reader.onload = (e) => {\n",
              "        resolve(e.target.result);\n",
              "      };\n",
              "      reader.readAsArrayBuffer(file);\n",
              "    });\n",
              "    // Wait for the data to be ready.\n",
              "    let fileData = yield {\n",
              "      promise: fileDataPromise,\n",
              "      response: {\n",
              "        action: 'continue',\n",
              "      }\n",
              "    };\n",
              "\n",
              "    // Use a chunked sending to avoid message size limits. See b/62115660.\n",
              "    let position = 0;\n",
              "    do {\n",
              "      const length = Math.min(fileData.byteLength - position, MAX_PAYLOAD_SIZE);\n",
              "      const chunk = new Uint8Array(fileData, position, length);\n",
              "      position += length;\n",
              "\n",
              "      const base64 = btoa(String.fromCharCode.apply(null, chunk));\n",
              "      yield {\n",
              "        response: {\n",
              "          action: 'append',\n",
              "          file: file.name,\n",
              "          data: base64,\n",
              "        },\n",
              "      };\n",
              "\n",
              "      let percentDone = fileData.byteLength === 0 ?\n",
              "          100 :\n",
              "          Math.round((position / fileData.byteLength) * 100);\n",
              "      percent.textContent = `${percentDone}% done`;\n",
              "\n",
              "    } while (position < fileData.byteLength);\n",
              "  }\n",
              "\n",
              "  // All done.\n",
              "  yield {\n",
              "    response: {\n",
              "      action: 'complete',\n",
              "    }\n",
              "  };\n",
              "}\n",
              "\n",
              "scope.google = scope.google || {};\n",
              "scope.google.colab = scope.google.colab || {};\n",
              "scope.google.colab._files = {\n",
              "  _uploadFiles,\n",
              "  _uploadFilesContinue,\n",
              "};\n",
              "})(self);\n",
              "</script> "
            ]
          },
          "metadata": {}
        },
        {
          "output_type": "stream",
          "name": "stdout",
          "text": [
            "Saving TSLA(Full).csv to TSLA(Full) (1).csv\n"
          ]
        }
      ]
    },
    {
      "cell_type": "code",
      "source": [
        "import io\n",
        "df2 = pd.read_csv(io.BytesIO(uploaded['TSLA(Full).csv']))\n",
        "\n",
        "print(df2)"
      ],
      "metadata": {
        "colab": {
          "base_uri": "https://localhost:8080/"
        },
        "id": "1NATo4j1Wavf",
        "outputId": "df72b9b7-bb4b-4e39-8fc0-7c43909a1fcd"
      },
      "execution_count": 81,
      "outputs": [
        {
          "output_type": "stream",
          "name": "stdout",
          "text": [
            "            Date    Open    High     Low   Close  Adj_Close     Volume\n",
            "0     2018-01-09   22.34   22.59   21.83   22.25      22.25  107199000\n",
            "1     2018-01-10   22.15   22.47   22.00   22.32      22.32   64648500\n",
            "2     2018-01-11   22.35   22.99   22.22   22.53      22.53   99682500\n",
            "3     2018-01-12   22.58   22.69   22.24   22.41      22.41   72376500\n",
            "4     2018-01-16   22.50   23.00   22.32   22.67      22.67   97114500\n",
            "...          ...     ...     ...     ...     ...        ...        ...\n",
            "1253  2022-12-30  119.95  124.48  119.75  123.18     123.18  157304500\n",
            "1254  2023-01-03  118.47  118.80  104.64  108.10     108.10  231402800\n",
            "1255  2023-01-04  109.11  114.59  107.52  113.64     113.64  180389000\n",
            "1256  2023-01-05  110.51  111.75  107.16  110.34     110.34  157986300\n",
            "1257  2023-01-06  103.00  114.39  101.81  113.06     113.06  220575900\n",
            "\n",
            "[1258 rows x 7 columns]\n"
          ]
        }
      ]
    },
    {
      "cell_type": "code",
      "source": [
        "df3 = df2.copy()\n",
        "print(df3)\n",
        "print(df3.dtypes)"
      ],
      "metadata": {
        "id": "4wY9enX2zGuQ",
        "outputId": "adedab4c-78a6-4b38-f60e-a771b96812ac",
        "colab": {
          "base_uri": "https://localhost:8080/"
        }
      },
      "execution_count": 82,
      "outputs": [
        {
          "output_type": "stream",
          "name": "stdout",
          "text": [
            "            Date    Open    High     Low   Close  Adj_Close     Volume\n",
            "0     2018-01-09   22.34   22.59   21.83   22.25      22.25  107199000\n",
            "1     2018-01-10   22.15   22.47   22.00   22.32      22.32   64648500\n",
            "2     2018-01-11   22.35   22.99   22.22   22.53      22.53   99682500\n",
            "3     2018-01-12   22.58   22.69   22.24   22.41      22.41   72376500\n",
            "4     2018-01-16   22.50   23.00   22.32   22.67      22.67   97114500\n",
            "...          ...     ...     ...     ...     ...        ...        ...\n",
            "1253  2022-12-30  119.95  124.48  119.75  123.18     123.18  157304500\n",
            "1254  2023-01-03  118.47  118.80  104.64  108.10     108.10  231402800\n",
            "1255  2023-01-04  109.11  114.59  107.52  113.64     113.64  180389000\n",
            "1256  2023-01-05  110.51  111.75  107.16  110.34     110.34  157986300\n",
            "1257  2023-01-06  103.00  114.39  101.81  113.06     113.06  220575900\n",
            "\n",
            "[1258 rows x 7 columns]\n",
            "Date          object\n",
            "Open         float64\n",
            "High         float64\n",
            "Low          float64\n",
            "Close        float64\n",
            "Adj_Close    float64\n",
            "Volume         int64\n",
            "dtype: object\n"
          ]
        }
      ]
    },
    {
      "cell_type": "code",
      "source": [
        "df3['Date'] = pd.to_datetime(df3['Date'])\n",
        "df3['Date'] = df3['Date'].values.astype(\"float64\")\n",
        "print(df3)\n",
        "print(df3.dtypes)"
      ],
      "metadata": {
        "id": "K_YTQgXp20rp",
        "outputId": "d6744cb9-2e99-445e-906a-1bd3a20bae78",
        "colab": {
          "base_uri": "https://localhost:8080/"
        }
      },
      "execution_count": 83,
      "outputs": [
        {
          "output_type": "stream",
          "name": "stdout",
          "text": [
            "              Date    Open    High     Low   Close  Adj_Close     Volume\n",
            "0     1.515456e+18   22.34   22.59   21.83   22.25      22.25  107199000\n",
            "1     1.515542e+18   22.15   22.47   22.00   22.32      22.32   64648500\n",
            "2     1.515629e+18   22.35   22.99   22.22   22.53      22.53   99682500\n",
            "3     1.515715e+18   22.58   22.69   22.24   22.41      22.41   72376500\n",
            "4     1.516061e+18   22.50   23.00   22.32   22.67      22.67   97114500\n",
            "...            ...     ...     ...     ...     ...        ...        ...\n",
            "1253  1.672358e+18  119.95  124.48  119.75  123.18     123.18  157304500\n",
            "1254  1.672704e+18  118.47  118.80  104.64  108.10     108.10  231402800\n",
            "1255  1.672790e+18  109.11  114.59  107.52  113.64     113.64  180389000\n",
            "1256  1.672877e+18  110.51  111.75  107.16  110.34     110.34  157986300\n",
            "1257  1.672963e+18  103.00  114.39  101.81  113.06     113.06  220575900\n",
            "\n",
            "[1258 rows x 7 columns]\n",
            "Date         float64\n",
            "Open         float64\n",
            "High         float64\n",
            "Low          float64\n",
            "Close        float64\n",
            "Adj_Close    float64\n",
            "Volume         int64\n",
            "dtype: object\n"
          ]
        }
      ]
    },
    {
      "cell_type": "code",
      "source": [
        "df3 = df3[['Date', 'Open', 'Close']]\n",
        "print(df3)"
      ],
      "metadata": {
        "colab": {
          "base_uri": "https://localhost:8080/"
        },
        "id": "nLhjnaaMlNN8",
        "outputId": "7fea45e9-f010-4566-e811-25f59d6f38d4"
      },
      "execution_count": 84,
      "outputs": [
        {
          "output_type": "stream",
          "name": "stdout",
          "text": [
            "              Date    Open   Close\n",
            "0     1.515456e+18   22.34   22.25\n",
            "1     1.515542e+18   22.15   22.32\n",
            "2     1.515629e+18   22.35   22.53\n",
            "3     1.515715e+18   22.58   22.41\n",
            "4     1.516061e+18   22.50   22.67\n",
            "...            ...     ...     ...\n",
            "1253  1.672358e+18  119.95  123.18\n",
            "1254  1.672704e+18  118.47  108.10\n",
            "1255  1.672790e+18  109.11  113.64\n",
            "1256  1.672877e+18  110.51  110.34\n",
            "1257  1.672963e+18  103.00  113.06\n",
            "\n",
            "[1258 rows x 3 columns]\n"
          ]
        }
      ]
    },
    {
      "cell_type": "code",
      "source": [
        "plt.figure(figsize = (10,6))\n",
        "plt.plot(df3['Open'])\n",
        "plt.xlabel('Date')\n",
        "plt.ylabel('Price')\n",
        "plt.plot(df3['Close'])\n",
        "plt.xlabel('Date')\n",
        "plt.ylabel('Price')\n",
        "plt.title('Summary Graph')"
      ],
      "metadata": {
        "colab": {
          "base_uri": "https://localhost:8080/",
          "height": 421
        },
        "id": "u9iI2xDvWjHu",
        "outputId": "74c4a013-bdbb-4bb5-f23d-b46a7b1644b5"
      },
      "execution_count": 85,
      "outputs": [
        {
          "output_type": "execute_result",
          "data": {
            "text/plain": [
              "Text(0.5, 1.0, 'Summary Graph')"
            ]
          },
          "metadata": {},
          "execution_count": 85
        },
        {
          "output_type": "display_data",
          "data": {
            "text/plain": [
              "<Figure size 720x432 with 1 Axes>"
            ],
            "image/png": "[encoded data removed]"
          },
          "metadata": {
            "needs_background": "light"
          }
        }
      ]
    },
    {
      "cell_type": "code",
      "source": [
        "ms = MinMaxScaler()\n",
        "df3 = ms.fit_transform(df3)\n",
        "\n",
        "df3.shape\n"
      ],
      "metadata": {
        "colab": {
          "base_uri": "https://localhost:8080/"
        },
        "id": "3jGUnPEVyXC2",
        "outputId": "98dd68e6-5035-4ecd-d3e4-db3709212ee4"
      },
      "execution_count": 86,
      "outputs": [
        {
          "output_type": "execute_result",
          "data": {
            "text/plain": [
              "(1258, 3)"
            ]
          },
          "metadata": {},
          "execution_count": 86
        }
      ]
    },
    {
      "cell_type": "code",
      "source": [
        "#set training size (85% of data)\n",
        "train_size = round(len(df3)*0.85)\n",
        "\n",
        "stock_train = df3[:train_size]\n",
        "stock_vaild = df3[train_size:]\n",
        "\n",
        "print(train_size)\n",
        "print(stock_train.shape, stock_vaild.shape)"
      ],
      "metadata": {
        "colab": {
          "base_uri": "https://localhost:8080/"
        },
        "id": "fiv3iQunlAzD",
        "outputId": "ca177c6b-323c-4818-ae79-ce01c9f36997"
      },
      "execution_count": 87,
      "outputs": [
        {
          "output_type": "stream",
          "name": "stdout",
          "text": [
            "1069\n",
            "(1069, 3) (189, 3)\n"
          ]
        }
      ]
    },
    {
      "cell_type": "code",
      "source": [
        "def Sequence(data):\n",
        "  sequences = []\n",
        "  labels = []\n",
        "\n",
        "  start = 0\n",
        "\n",
        "  for stop in range (30, len(data)):\n",
        "    sequences.append(data[start:stop])\n",
        "    labels.append(data[stop])\n",
        "    start += 1\n",
        "\n",
        "  return (np.array(sequences), np.array(labels))"
      ],
      "metadata": {
        "id": "rC34OgG51I5L"
      },
      "execution_count": 88,
      "outputs": []
    },
    {
      "cell_type": "code",
      "source": [
        "train_squence, train_label = Sequence(stock_train)\n",
        "vaild_squence, vaild_label = Sequence(stock_vaild)\n",
        "\n",
        "train_squence.shape, train_label.shape, vaild_squence.shape, vaild_label.shape"
      ],
      "metadata": {
        "colab": {
          "base_uri": "https://localhost:8080/"
        },
        "id": "Nb1GtKuPm2Zl",
        "outputId": "c1453f2c-9975-4e35-ad29-e33f73e56277"
      },
      "execution_count": 89,
      "outputs": [
        {
          "output_type": "execute_result",
          "data": {
            "text/plain": [
              "((1039, 30, 3), (1039, 3), (159, 30, 3), (159, 3))"
            ]
          },
          "metadata": {},
          "execution_count": 89
        }
      ]
    },
    {
      "cell_type": "markdown",
      "source": [
        "## **Create LSTM Model**"
      ],
      "metadata": {
        "id": "t6_8r1SX4NS_"
      }
    },
    {
      "cell_type": "code",
      "source": [
        "model = tf.keras.models.Sequential([\n",
        "    tf.keras.layers.LSTM(64, return_sequences = True, input_shape = (train_squence.shape[1], train_squence.shape[2])),\n",
        "    tf.keras.layers.LSTM(64),\n",
        "    tf.keras.layers.Dropout(0.1),\n",
        "    tf.keras.layers.Dense(3)\n",
        "])\n",
        "\n",
        "model.compile(loss = tf.keras.losses.MeanSquaredError(),\n",
        "              optimizer='adam',\n",
        "              metrics=[\"mae\"])\n",
        "\n",
        "model.summary()"
      ],
      "metadata": {
        "colab": {
          "base_uri": "https://localhost:8080/"
        },
        "id": "pDmJr30M3hoj",
        "outputId": "11f2559b-0db7-4d63-a1fe-24ad75916a5c"
      },
      "execution_count": 90,
      "outputs": [
        {
          "output_type": "stream",
          "name": "stdout",
          "text": [
            "Model: \"sequential_9\"\n",
            "_________________________________________________________________\n",
            " Layer (type)                Output Shape              Param #   \n",
            "=================================================================\n",
            " lstm_18 (LSTM)              (None, 30, 64)            17408     \n",
            "                                                                 \n",
            " lstm_19 (LSTM)              (None, 64)                33024     \n",
            "                                                                 \n",
            " dropout_9 (Dropout)         (None, 64)                0         \n",
            "                                                                 \n",
            " dense_9 (Dense)             (None, 3)                 195       \n",
            "                                                                 \n",
            "=================================================================\n",
            "Total params: 50,627\n",
            "Trainable params: 50,627\n",
            "Non-trainable params: 0\n",
            "_________________________________________________________________\n"
          ]
        }
      ]
    },
    {
      "cell_type": "code",
      "source": [
        "model.fit(train_squence, train_label, epochs=30,validation_data=(vaild_squence, vaild_label), verbose=1)"
      ],
      "metadata": {
        "colab": {
          "base_uri": "https://localhost:8080/"
        },
        "id": "-01ys4eO9_nd",
        "outputId": "5103addc-c209-4f13-ebdc-e23e0e7abbf9"
      },
      "execution_count": 91,
      "outputs": [
        {
          "output_type": "stream",
          "name": "stdout",
          "text": [
            "Epoch 1/30\n",
            "33/33 [==============================] - 6s 73ms/step - loss: 0.0300 - mae: 0.1084 - val_loss: 0.0076 - val_mae: 0.0724\n",
            "Epoch 2/30\n",
            "33/33 [==============================] - 1s 41ms/step - loss: 0.0035 - mae: 0.0415 - val_loss: 0.0100 - val_mae: 0.0813\n",
            "Epoch 3/30\n",
            "33/33 [==============================] - 1s 41ms/step - loss: 0.0022 - mae: 0.0325 - val_loss: 0.0046 - val_mae: 0.0588\n",
            "Epoch 4/30\n",
            "33/33 [==============================] - 1s 44ms/step - loss: 0.0021 - mae: 0.0293 - val_loss: 0.0043 - val_mae: 0.0570\n",
            "Epoch 5/30\n",
            "33/33 [==============================] - 1s 42ms/step - loss: 0.0021 - mae: 0.0293 - val_loss: 0.0053 - val_mae: 0.0632\n",
            "Epoch 6/30\n",
            "33/33 [==============================] - 1s 42ms/step - loss: 0.0019 - mae: 0.0279 - val_loss: 0.0062 - val_mae: 0.0698\n",
            "Epoch 7/30\n",
            "33/33 [==============================] - 1s 41ms/step - loss: 0.0017 - mae: 0.0265 - val_loss: 0.0039 - val_mae: 0.0544\n",
            "Epoch 8/30\n",
            "33/33 [==============================] - 1s 41ms/step - loss: 0.0017 - mae: 0.0259 - val_loss: 0.0040 - val_mae: 0.0548\n",
            "Epoch 9/30\n",
            "33/33 [==============================] - 1s 41ms/step - loss: 0.0018 - mae: 0.0267 - val_loss: 0.0076 - val_mae: 0.0754\n",
            "Epoch 10/30\n",
            "33/33 [==============================] - 1s 42ms/step - loss: 0.0016 - mae: 0.0254 - val_loss: 0.0044 - val_mae: 0.0578\n",
            "Epoch 11/30\n",
            "33/33 [==============================] - 1s 41ms/step - loss: 0.0016 - mae: 0.0249 - val_loss: 0.0046 - val_mae: 0.0534\n",
            "Epoch 12/30\n",
            "33/33 [==============================] - 1s 43ms/step - loss: 0.0016 - mae: 0.0261 - val_loss: 0.0055 - val_mae: 0.0583\n",
            "Epoch 13/30\n",
            "33/33 [==============================] - 1s 42ms/step - loss: 0.0016 - mae: 0.0249 - val_loss: 0.0024 - val_mae: 0.0433\n",
            "Epoch 14/30\n",
            "33/33 [==============================] - 1s 40ms/step - loss: 0.0015 - mae: 0.0254 - val_loss: 0.0069 - val_mae: 0.0741\n",
            "Epoch 15/30\n",
            "33/33 [==============================] - 1s 39ms/step - loss: 0.0013 - mae: 0.0234 - val_loss: 0.0024 - val_mae: 0.0364\n",
            "Epoch 16/30\n",
            "33/33 [==============================] - 1s 41ms/step - loss: 0.0013 - mae: 0.0232 - val_loss: 0.0017 - val_mae: 0.0365\n",
            "Epoch 17/30\n",
            "33/33 [==============================] - 1s 42ms/step - loss: 0.0013 - mae: 0.0227 - val_loss: 0.0021 - val_mae: 0.0388\n",
            "Epoch 18/30\n",
            "33/33 [==============================] - 2s 68ms/step - loss: 0.0014 - mae: 0.0236 - val_loss: 0.0029 - val_mae: 0.0408\n",
            "Epoch 19/30\n",
            "33/33 [==============================] - 3s 88ms/step - loss: 0.0012 - mae: 0.0222 - val_loss: 0.0030 - val_mae: 0.0474\n",
            "Epoch 20/30\n",
            "33/33 [==============================] - 1s 42ms/step - loss: 0.0014 - mae: 0.0239 - val_loss: 0.0051 - val_mae: 0.0626\n",
            "Epoch 21/30\n",
            "33/33 [==============================] - 1s 42ms/step - loss: 0.0016 - mae: 0.0258 - val_loss: 0.0026 - val_mae: 0.0440\n",
            "Epoch 22/30\n",
            "33/33 [==============================] - 1s 43ms/step - loss: 0.0012 - mae: 0.0224 - val_loss: 0.0022 - val_mae: 0.0412\n",
            "Epoch 23/30\n",
            "33/33 [==============================] - 1s 42ms/step - loss: 0.0013 - mae: 0.0226 - val_loss: 0.0027 - val_mae: 0.0461\n",
            "Epoch 24/30\n",
            "33/33 [==============================] - 1s 42ms/step - loss: 0.0011 - mae: 0.0207 - val_loss: 0.0014 - val_mae: 0.0321\n",
            "Epoch 25/30\n",
            "33/33 [==============================] - 1s 40ms/step - loss: 0.0012 - mae: 0.0222 - val_loss: 0.0030 - val_mae: 0.0477\n",
            "Epoch 26/30\n",
            "33/33 [==============================] - 1s 40ms/step - loss: 0.0011 - mae: 0.0219 - val_loss: 0.0022 - val_mae: 0.0389\n",
            "Epoch 27/30\n",
            "33/33 [==============================] - 1s 43ms/step - loss: 0.0012 - mae: 0.0216 - val_loss: 0.0030 - val_mae: 0.0471\n",
            "Epoch 28/30\n",
            "33/33 [==============================] - 1s 40ms/step - loss: 0.0011 - mae: 0.0210 - val_loss: 0.0015 - val_mae: 0.0279\n",
            "Epoch 29/30\n",
            "33/33 [==============================] - 1s 41ms/step - loss: 0.0011 - mae: 0.0208 - val_loss: 0.0031 - val_mae: 0.0482\n",
            "Epoch 30/30\n",
            "33/33 [==============================] - 1s 43ms/step - loss: 0.0011 - mae: 0.0205 - val_loss: 0.0013 - val_mae: 0.0294\n"
          ]
        },
        {
          "output_type": "execute_result",
          "data": {
            "text/plain": [
              "<keras.callbacks.History at 0x7f98cc84ed60>"
            ]
          },
          "metadata": {},
          "execution_count": 91
        }
      ]
    },
    {
      "cell_type": "code",
      "source": [
        "test_predict = model.predict(vaild_squence)\n",
        "test_predict[:10]"
      ],
      "metadata": {
        "colab": {
          "base_uri": "https://localhost:8080/"
        },
        "id": "IzQs0wzx-GRe",
        "outputId": "da15ab5a-1c84-49ef-8726-f06c4cacd8c3"
      },
      "execution_count": 92,
      "outputs": [
        {
          "output_type": "stream",
          "name": "stdout",
          "text": [
            "5/5 [==============================] - 1s 12ms/step\n"
          ]
        },
        {
          "output_type": "execute_result",
          "data": {
            "text/plain": [
              "array([[0.8620918 , 0.5893634 , 0.5848665 ],\n",
              "       [0.8633914 , 0.5799461 , 0.57595277],\n",
              "       [0.864413  , 0.56924576, 0.5654406 ],\n",
              "       [0.8651274 , 0.5555026 , 0.55211616],\n",
              "       [0.866133  , 0.54397553, 0.54051894],\n",
              "       [0.8681238 , 0.5414707 , 0.5374006 ],\n",
              "       [0.8711451 , 0.5515768 , 0.54666823],\n",
              "       [0.8743176 , 0.56914556, 0.56392217],\n",
              "       [0.87647474, 0.58565414, 0.58072287],\n",
              "       [0.8779347 , 0.6013648 , 0.5966286 ]], dtype=float32)"
            ]
          },
          "metadata": {},
          "execution_count": 92
        }
      ]
    },
    {
      "cell_type": "code",
      "source": [
        "test_inverse = ms.inverse_transform(test_predict)\n",
        "test_inverse[:10]"
      ],
      "metadata": {
        "colab": {
          "base_uri": "https://localhost:8080/"
        },
        "id": "rNX5bIpzBAoB",
        "outputId": "1f45d8c8-fc53-43b8-d3bc-f4be9fefae59"
      },
      "execution_count": 93,
      "outputs": [
        {
          "output_type": "execute_result",
          "data": {
            "text/plain": [
              "array([[1.6512416e+18, 2.4746175e+02, 2.4473026e+02],\n",
              "       [1.6514464e+18, 2.4370047e+02, 2.4118224e+02],\n",
              "       [1.6516073e+18, 2.3942676e+02, 2.3699797e+02],\n",
              "       [1.6517198e+18, 2.3393773e+02, 2.3169431e+02],\n",
              "       [1.6518781e+18, 2.2933383e+02, 2.2707816e+02],\n",
              "       [1.6521917e+18, 2.2833340e+02, 2.2583693e+02],\n",
              "       [1.6526677e+18, 2.3236977e+02, 2.2952582e+02],\n",
              "       [1.6531674e+18, 2.3938673e+02, 2.3639357e+02],\n",
              "       [1.6535072e+18, 2.4598027e+02, 2.4308092e+02],\n",
              "       [1.6537370e+18, 2.5225510e+02, 2.4941205e+02]], dtype=float32)"
            ]
          },
          "metadata": {},
          "execution_count": 93
        }
      ]
    },
    {
      "cell_type": "markdown",
      "source": [
        "## **Visualize and predict actual data**"
      ],
      "metadata": {
        "id": "QsiKys_LB592"
      }
    },
    {
      "cell_type": "code",
      "source": [],
      "metadata": {
        "id": "Ur27RumcBRR4"
      },
      "execution_count": null,
      "outputs": []
    }
  ]
}