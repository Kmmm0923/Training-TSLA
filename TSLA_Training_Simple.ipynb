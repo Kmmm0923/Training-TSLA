{
  "nbformat": 4,
  "nbformat_minor": 0,
  "metadata": {
    "colab": {
      "provenance": []
    },
    "kernelspec": {
      "name": "python3",
      "display_name": "Python 3"
    },
    "language_info": {
      "name": "python"
    }
  },
  "cells": [
    {
      "cell_type": "markdown",
      "source": [
        "<a href=\"https://colab.research.google.com/github/Kmmm0923/Training-TSLA/blob/9b1ae17982c45ec22e4a87a077a56b9e23428ee1/TSLA_Training_Simple.ipynb\" target=\"_parent\">\n",
        "<img src=\"https://colab.research.google.com/assets/colab-badge.svg\" \n",
        "alt=\"Open In Colab\"/></a>"
      ],
      "metadata": {
        "id": "kDAg4sMgM4It"
      }
    },
    {
      "cell_type": "code",
      "source": [
        "import csv\n",
        "import pickle\n",
        "import numpy as np\n",
        "import tensorflow as tf\n",
        "import matplotlib.pyplot as plt\n",
        "from dataclasses import dataclass "
      ],
      "metadata": {
        "id": "f_NDr8r0D_4P"
      },
      "execution_count": 1,
      "outputs": []
    },
    {
      "cell_type": "code",
      "source": [
        "TSLA_csv = '.TSLA.csv'\n",
        "\n",
        "\n",
        "with open(TSLA_csv, 'r') as csvfile:\n",
        "  print(csvfile.readline())"
      ],
      "metadata": {
        "colab": {
          "base_uri": "https://localhost:8080/"
        },
        "id": "1k3QS9ZpOeob",
        "outputId": "704dfbde-685b-4fb8-f635-f79021b175bd"
      },
      "execution_count": 6,
      "outputs": [
        {
          "output_type": "stream",
          "name": "stdout",
          "text": [
            "\n",
            "\n"
          ]
        }
      ]
    },
    {
      "cell_type": "code",
      "source": [
        "def prase_data_from_file(filename):\n",
        "\n",
        "  date_step = []\n",
        "  stock_price =[]\n",
        "\n",
        "  with open('./TSLA.csv') as csvfile:\n",
        "\n",
        "    reader = csv.reader(csvfile, delimiter = ',')\n",
        "    next(reader)\n",
        "    step = 1\n",
        "\n",
        "\n",
        "    for row in reader:\n",
        "      date_step.append(step)\n",
        "      step += 1\n",
        "      stock_price.append(float(row[1]))\n",
        "\n",
        "  time = np.array(date_step)\n",
        "  series = np.array(stock_price)\n",
        "\n",
        "  return date_step, stock_price"
      ],
      "metadata": {
        "id": "s5KmEUgnJgJM"
      },
      "execution_count": null,
      "outputs": []
    },
    {
      "cell_type": "code",
      "source": [
        "@dataclass\n",
        "class G:\n",
        "  TSLA_csv = './TSLA.csv'\n",
        "  date_step, stock_price = prase_data_from_file(TSLA_csv)\n",
        "  TIME = np.array(date_step)\n",
        "  SERIES = np.array(stock_price)\n",
        "  SPLIT_TIME = 2500\n",
        "  WINDOW_SIZE = 64\n",
        "  BATCH_SIZE = 256\n",
        "  SHUFFLE_BUFFER_SIZE = 1000\n",
        "\n",
        "plt.figure(figsize=(10,6))\n",
        "plot_series(G.TIME, G.SERIES)\n",
        "plt.show"
      ],
      "metadata": {
        "id": "0blolnucSFKD"
      },
      "execution_count": null,
      "outputs": []
    },
    {
      "cell_type": "code",
      "source": [],
      "metadata": {
        "id": "9ItlYQnvb45O"
      },
      "execution_count": null,
      "outputs": []
    }
  ]
}