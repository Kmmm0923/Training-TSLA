{
  "nbformat": 4,
  "nbformat_minor": 0,
  "metadata": {
    "colab": {
      "provenance": []
    },
    "kernelspec": {
      "name": "python3",
      "display_name": "Python 3"
    },
    "language_info": {
      "name": "python"
    }
  },
  "cells": [
    {
      "cell_type": "markdown",
      "source": [
        "<a href=\"https://colab.research.google.com/github/Kmmm0923/Training-TSLA/blob/9b1ae17982c45ec22e4a87a077a56b9e23428ee1/TSLA_Training_Simple.ipynb\" target=\"_parent\">\n",
        "<img src=\"https://colab.research.google.com/assets/colab-badge.svg\" \n",
        "alt=\"Open In Colab\"/></a>"
      ],
      "metadata": {
        "id": "kDAg4sMgM4It"
      }
    },
    {
      "cell_type": "code",
      "source": [
        "import csv\n",
        "import pickle\n",
        "import numpy as np\n",
        "import pandas as pd\n",
        "import tensorflow as tf\n",
        "import matplotlib.pyplot as plt\n",
        "from dataclasses import dataclass "
      ],
      "metadata": {
        "id": "f_NDr8r0D_4P"
      },
      "execution_count": 12,
      "outputs": []
    },
    {
      "cell_type": "code",
      "source": [
        "from google.colab import files\n",
        "uploaded = files.upload()"
      ],
      "metadata": {
        "id": "ZlIXaGj2ojPA",
        "outputId": "3d303f97-82b7-4a17-f201-8d0d6b2933c0",
        "colab": {
          "base_uri": "https://localhost:8080/",
          "height": 73
        }
      },
      "execution_count": 13,
      "outputs": [
        {
          "output_type": "display_data",
          "data": {
            "text/plain": [
              "<IPython.core.display.HTML object>"
            ],
            "text/html": [
              "\n",
              "     <input type=\"file\" id=\"files-b0117b3c-67ec-44b8-b683-e4fc70e31134\" name=\"files[]\" multiple disabled\n",
              "        style=\"border:none\" />\n",
              "     <output id=\"result-b0117b3c-67ec-44b8-b683-e4fc70e31134\">\n",
              "      Upload widget is only available when the cell has been executed in the\n",
              "      current browser session. Please rerun this cell to enable.\n",
              "      </output>\n",
              "      <script>// Copyright 2017 Google LLC\n",
              "//\n",
              "// Licensed under the Apache License, Version 2.0 (the \"License\");\n",
              "// you may not use this file except in compliance with the License.\n",
              "// You may obtain a copy of the License at\n",
              "//\n",
              "//      http://www.apache.org/licenses/LICENSE-2.0\n",
              "//\n",
              "// Unless required by applicable law or agreed to in writing, software\n",
              "// distributed under the License is distributed on an \"AS IS\" BASIS,\n",
              "// WITHOUT WARRANTIES OR CONDITIONS OF ANY KIND, either express or implied.\n",
              "// See the License for the specific language governing permissions and\n",
              "// limitations under the License.\n",
              "\n",
              "/**\n",
              " * @fileoverview Helpers for google.colab Python module.\n",
              " */\n",
              "(function(scope) {\n",
              "function span(text, styleAttributes = {}) {\n",
              "  const element = document.createElement('span');\n",
              "  element.textContent = text;\n",
              "  for (const key of Object.keys(styleAttributes)) {\n",
              "    element.style[key] = styleAttributes[key];\n",
              "  }\n",
              "  return element;\n",
              "}\n",
              "\n",
              "// Max number of bytes which will be uploaded at a time.\n",
              "const MAX_PAYLOAD_SIZE = 100 * 1024;\n",
              "\n",
              "function _uploadFiles(inputId, outputId) {\n",
              "  const steps = uploadFilesStep(inputId, outputId);\n",
              "  const outputElement = document.getElementById(outputId);\n",
              "  // Cache steps on the outputElement to make it available for the next call\n",
              "  // to uploadFilesContinue from Python.\n",
              "  outputElement.steps = steps;\n",
              "\n",
              "  return _uploadFilesContinue(outputId);\n",
              "}\n",
              "\n",
              "// This is roughly an async generator (not supported in the browser yet),\n",
              "// where there are multiple asynchronous steps and the Python side is going\n",
              "// to poll for completion of each step.\n",
              "// This uses a Promise to block the python side on completion of each step,\n",
              "// then passes the result of the previous step as the input to the next step.\n",
              "function _uploadFilesContinue(outputId) {\n",
              "  const outputElement = document.getElementById(outputId);\n",
              "  const steps = outputElement.steps;\n",
              "\n",
              "  const next = steps.next(outputElement.lastPromiseValue);\n",
              "  return Promise.resolve(next.value.promise).then((value) => {\n",
              "    // Cache the last promise value to make it available to the next\n",
              "    // step of the generator.\n",
              "    outputElement.lastPromiseValue = value;\n",
              "    return next.value.response;\n",
              "  });\n",
              "}\n",
              "\n",
              "/**\n",
              " * Generator function which is called between each async step of the upload\n",
              " * process.\n",
              " * @param {string} inputId Element ID of the input file picker element.\n",
              " * @param {string} outputId Element ID of the output display.\n",
              " * @return {!Iterable<!Object>} Iterable of next steps.\n",
              " */\n",
              "function* uploadFilesStep(inputId, outputId) {\n",
              "  const inputElement = document.getElementById(inputId);\n",
              "  inputElement.disabled = false;\n",
              "\n",
              "  const outputElement = document.getElementById(outputId);\n",
              "  outputElement.innerHTML = '';\n",
              "\n",
              "  const pickedPromise = new Promise((resolve) => {\n",
              "    inputElement.addEventListener('change', (e) => {\n",
              "      resolve(e.target.files);\n",
              "    });\n",
              "  });\n",
              "\n",
              "  const cancel = document.createElement('button');\n",
              "  inputElement.parentElement.appendChild(cancel);\n",
              "  cancel.textContent = 'Cancel upload';\n",
              "  const cancelPromise = new Promise((resolve) => {\n",
              "    cancel.onclick = () => {\n",
              "      resolve(null);\n",
              "    };\n",
              "  });\n",
              "\n",
              "  // Wait for the user to pick the files.\n",
              "  const files = yield {\n",
              "    promise: Promise.race([pickedPromise, cancelPromise]),\n",
              "    response: {\n",
              "      action: 'starting',\n",
              "    }\n",
              "  };\n",
              "\n",
              "  cancel.remove();\n",
              "\n",
              "  // Disable the input element since further picks are not allowed.\n",
              "  inputElement.disabled = true;\n",
              "\n",
              "  if (!files) {\n",
              "    return {\n",
              "      response: {\n",
              "        action: 'complete',\n",
              "      }\n",
              "    };\n",
              "  }\n",
              "\n",
              "  for (const file of files) {\n",
              "    const li = document.createElement('li');\n",
              "    li.append(span(file.name, {fontWeight: 'bold'}));\n",
              "    li.append(span(\n",
              "        `(${file.type || 'n/a'}) - ${file.size} bytes, ` +\n",
              "        `last modified: ${\n",
              "            file.lastModifiedDate ? file.lastModifiedDate.toLocaleDateString() :\n",
              "                                    'n/a'} - `));\n",
              "    const percent = span('0% done');\n",
              "    li.appendChild(percent);\n",
              "\n",
              "    outputElement.appendChild(li);\n",
              "\n",
              "    const fileDataPromise = new Promise((resolve) => {\n",
              "      const reader = new FileReader();\n",
              "      reader.onload = (e) => {\n",
              "        resolve(e.target.result);\n",
              "      };\n",
              "      reader.readAsArrayBuffer(file);\n",
              "    });\n",
              "    // Wait for the data to be ready.\n",
              "    let fileData = yield {\n",
              "      promise: fileDataPromise,\n",
              "      response: {\n",
              "        action: 'continue',\n",
              "      }\n",
              "    };\n",
              "\n",
              "    // Use a chunked sending to avoid message size limits. See b/62115660.\n",
              "    let position = 0;\n",
              "    do {\n",
              "      const length = Math.min(fileData.byteLength - position, MAX_PAYLOAD_SIZE);\n",
              "      const chunk = new Uint8Array(fileData, position, length);\n",
              "      position += length;\n",
              "\n",
              "      const base64 = btoa(String.fromCharCode.apply(null, chunk));\n",
              "      yield {\n",
              "        response: {\n",
              "          action: 'append',\n",
              "          file: file.name,\n",
              "          data: base64,\n",
              "        },\n",
              "      };\n",
              "\n",
              "      let percentDone = fileData.byteLength === 0 ?\n",
              "          100 :\n",
              "          Math.round((position / fileData.byteLength) * 100);\n",
              "      percent.textContent = `${percentDone}% done`;\n",
              "\n",
              "    } while (position < fileData.byteLength);\n",
              "  }\n",
              "\n",
              "  // All done.\n",
              "  yield {\n",
              "    response: {\n",
              "      action: 'complete',\n",
              "    }\n",
              "  };\n",
              "}\n",
              "\n",
              "scope.google = scope.google || {};\n",
              "scope.google.colab = scope.google.colab || {};\n",
              "scope.google.colab._files = {\n",
              "  _uploadFiles,\n",
              "  _uploadFilesContinue,\n",
              "};\n",
              "})(self);\n",
              "</script> "
            ]
          },
          "metadata": {}
        },
        {
          "output_type": "stream",
          "name": "stdout",
          "text": [
            "Saving TSLA.csv to TSLA (1).csv\n"
          ]
        }
      ]
    },
    {
      "cell_type": "code",
      "source": [
        "import io\n",
        "df2 = pd.read_csv(io.BytesIO(uploaded['TSLA.csv']))\n",
        "\n",
        "print(df2)"
      ],
      "metadata": {
        "id": "iD3wKO08okdO",
        "outputId": "e57be8e5-2ed2-4cf4-a3e9-b6ab75d5edbc",
        "colab": {
          "base_uri": "https://localhost:8080/"
        }
      },
      "execution_count": 14,
      "outputs": [
        {
          "output_type": "stream",
          "name": "stdout",
          "text": [
            "            Date   Adj Close \n",
            "0     2018-01-09        22.25\n",
            "1     2018-01-10        22.32\n",
            "2     2018-01-11        22.53\n",
            "3     2018-01-12        22.41\n",
            "4     2018-01-16        22.67\n",
            "...          ...          ...\n",
            "1253  2022-12-30       123.18\n",
            "1254  2023-01-03       108.10\n",
            "1255  2023-01-04       113.64\n",
            "1256  2023-01-05       110.34\n",
            "1257  2023-01-06       113.06\n",
            "\n",
            "[1258 rows x 2 columns]\n"
          ]
        }
      ]
    },
    {
      "cell_type": "code",
      "source": [
        "def plot_series(time, series, format=\"-\", start=0, end=None):\n",
        "    plt.plot(time[start:end], series[start:end], format)\n",
        "    plt.xlabel(\"Time\")\n",
        "    plt.ylabel(\"Value\")\n",
        "    plt.grid(True)"
      ],
      "metadata": {
        "id": "1CLgb0edgmwY"
      },
      "execution_count": 15,
      "outputs": []
    },
    {
      "cell_type": "code",
      "source": [
        "def parse_data_from_file(filename):\n",
        "  # initialize lists\n",
        "  time_step = []\n",
        "  stock_price = []\n",
        "\n",
        "  #Open CSV file\n",
        "  with open(filename) as csvfile:\n",
        "\n",
        "    #Initialize reader\n",
        "    reader = csv.reader(csvfile, delimiter = ',')\n",
        "\n",
        "    #Skip first line\n",
        "    next(reader)\n",
        "\n",
        "    step = 1\n",
        "\n",
        "    # Apend row and price number to lists\n",
        "    for row in reader: \n",
        "      time_step.append(step)\n",
        "      step += 1 \n",
        "      stock_price.append(float(row[1]))\n",
        "\n",
        "    #Convert list to numpy array\n",
        "    time = np.array(time_step)\n",
        "    series = np.array(stock_price)\n",
        "\n",
        "  return time_step, stock_price"
      ],
      "metadata": {
        "id": "OTEJ0bdqor-B"
      },
      "execution_count": 16,
      "outputs": []
    },
    {
      "cell_type": "code",
      "source": [
        "# Test function and save all \"global\" variables within the G class (G stands for global)\n",
        "@dataclass\n",
        "class G:\n",
        "    TSLA_csv = 'TSLA.csv'\n",
        "    time_step, stock_price = parse_data_from_file(TSLA_csv)\n",
        "    TIME = np.array(time_step)\n",
        "    SERIES = np.array(stock_price)\n",
        "    SPLIT_TIME = 2500\n",
        "    WINDOW_SIZE = 64\n",
        "    BATCH_SIZE = 256\n",
        "    SHUFFLE_BUFFER_SIZE = 1000\n",
        "\n",
        "\n",
        "plt.figure(figsize=(10, 6))\n",
        "plot_series(G.TIME, G.SERIES)\n",
        "plt.show()"
      ],
      "metadata": {
        "id": "urjeqx7stgJ1",
        "outputId": "17fea4a5-c880-425a-9247-92213c590da8",
        "colab": {
          "base_uri": "https://localhost:8080/",
          "height": 388
        }
      },
      "execution_count": 17,
      "outputs": [
        {
          "output_type": "display_data",
          "data": {
            "text/plain": [
              "<Figure size 720x432 with 1 Axes>"
            ],
            "image/png": "[encoded data removed]"
          },
          "metadata": {
            "needs_background": "light"
          }
        }
      ]
    },
    {
      "cell_type": "markdown",
      "source": [
        "## **Processing the data**"
      ],
      "metadata": {
        "id": "HUxaZyQ5hpjF"
      }
    },
    {
      "cell_type": "code",
      "source": [
        "def train_val_split(time, series, time_step=G.SPLIT_TIME):\n",
        "\n",
        "    time_train = time[:time_step]\n",
        "    series_train = series[:time_step]\n",
        "    time_valid = time[time_step:]\n",
        "    series_valid = series[time_step:]\n",
        "\n",
        "    return time_train, series_train, time_valid, series_valid\n",
        "\n",
        "\n",
        "# Split the dataset\n",
        "time_train, series_train, time_valid, series_valid = train_val_split(G.TIME, G.SERIES)"
      ],
      "metadata": {
        "id": "9TyIkXk6fdRo"
      },
      "execution_count": 18,
      "outputs": []
    },
    {
      "cell_type": "code",
      "source": [
        "def windowed_dataset(series, window_size=G.WINDOW_SIZE, batch_size=G.BATCH_SIZE, shuffle_buffer=G.SHUFFLE_BUFFER_SIZE):\n",
        "    ds = tf.data.Dataset.from_tensor_slices(series)\n",
        "    ds = ds.window(window_size + 1, shift=1, drop_remainder=True)\n",
        "    ds = ds.flat_map(lambda w: w.batch(window_size + 1))\n",
        "    ds = ds.shuffle(shuffle_buffer)\n",
        "    ds = ds.map(lambda w: (w[:-1], w[-1]))\n",
        "    ds = ds.batch(batch_size).prefetch(1)\n",
        "    return ds\n",
        "\n",
        "\n",
        "# Apply the transformation to the training set\n",
        "train_set = windowed_dataset(series_train, window_size=64, batch_size=256, shuffle_buffer=1000)"
      ],
      "metadata": {
        "id": "B36iEgQGiFP1"
      },
      "execution_count": 19,
      "outputs": []
    },
    {
      "cell_type": "code",
      "source": [
        "def create_uncompiled_model():\n",
        "    \n",
        "    model = tf.keras.models.Sequential([\n",
        "        tf.keras.layers.Conv1D(filters = 60, kernel_size = 5, strides = 1, \n",
        "                               padding = \"causal\", activation = \"relu\",\n",
        "                              input_shape = [None, 1]),\n",
        "        tf.keras.layers.LSTM(64, return_sequences = True),\n",
        "        tf.keras.layers.LSTM(64),\n",
        "        tf.keras.layers.Dense(30, activation = 'relu'),\n",
        "        tf.keras.layers.Dense(10, activation = 'relu'),\n",
        "        tf.keras.layers.Dense(1),\n",
        "        tf.keras.layers.Lambda(lambda x: x * 400)\n",
        "        \n",
        "    ]) \n",
        "  \n",
        "\n",
        "    return model"
      ],
      "metadata": {
        "id": "ETMJbh_IiHJP"
      },
      "execution_count": 25,
      "outputs": []
    },
    {
      "cell_type": "code",
      "source": [
        "# Test uncompiled model\n",
        "uncompiled_model = create_uncompiled_model()\n",
        "\n",
        "try:\n",
        "    uncompiled_model.predict(train_set)\n",
        "except:\n",
        "    print(\"Your current architecture is incompatible with the windowed dataset, try adjusting it.\")\n",
        "else:\n",
        "    print(\"Your current architecture is compatible with the windowed dataset! :)\")"
      ],
      "metadata": {
        "id": "APVHYdItjaje",
        "outputId": "f0983822-ac7b-4368-80fe-60a2f3aad70c",
        "colab": {
          "base_uri": "https://localhost:8080/"
        }
      },
      "execution_count": 26,
      "outputs": [
        {
          "output_type": "stream",
          "name": "stdout",
          "text": [
            "5/5 [==============================] - 4s 253ms/step\n",
            "Your current architecture is compatible with the windowed dataset! :)\n"
          ]
        }
      ]
    },
    {
      "cell_type": "code",
      "source": [
        "def adjust_learning_rate(dataset):\n",
        "    \n",
        "    model = create_uncompiled_model()\n",
        "    \n",
        "    lr_schedule = tf.keras.callbacks.LearningRateScheduler(lambda epoch: 1e-4 * 10**(epoch / 20))\n",
        "    \n",
        "    # Select your optimizer\n",
        "    optimizer = tf.keras.optimizers.SGD(learning_rate = 1e-8, momentum = 0.9)\n",
        "    \n",
        "    # Compile the model passing in the appropriate loss\n",
        "    model.compile(loss=tf.keras.losses.Huber(),\n",
        "                  optimizer=optimizer, \n",
        "                  metrics=[\"mae\"]) \n",
        "  \n",
        "    \n",
        "    history = model.fit(dataset, epochs=100, callbacks=[lr_schedule])\n",
        "    \n",
        "    return history"
      ],
      "metadata": {
        "id": "OuD8wTv2jlpS"
      },
      "execution_count": 38,
      "outputs": []
    },
    {
      "cell_type": "code",
      "source": [
        "# Run the training with dynamic LR\n",
        "lr_history = adjust_learning_rate(train_set)\n"
      ],
      "metadata": {
        "id": "lP0TkMF_kh3c",
        "outputId": "44cb0add-29ff-4a30-edad-1425a39c757e",
        "colab": {
          "base_uri": "https://localhost:8080/"
        }
      },
      "execution_count": 39,
      "outputs": [
        {
          "output_type": "stream",
          "name": "stdout",
          "text": [
            "Epoch 1/100\n",
            "5/5 [==============================] - 6s 356ms/step - loss: 132.7167 - mae: 133.2163 - lr: 1.0000e-04\n",
            "Epoch 2/100\n",
            "5/5 [==============================] - 2s 342ms/step - loss: 100.6646 - mae: 101.1634 - lr: 1.1220e-04\n",
            "Epoch 3/100\n",
            "5/5 [==============================] - 2s 341ms/step - loss: 72.0129 - mae: 72.5082 - lr: 1.2589e-04\n",
            "Epoch 4/100\n",
            "5/5 [==============================] - 2s 337ms/step - loss: 92.6501 - mae: 93.1495 - lr: 1.4125e-04\n",
            "Epoch 5/100\n",
            "5/5 [==============================] - 2s 339ms/step - loss: 108.3268 - mae: 108.8262 - lr: 1.5849e-04\n",
            "Epoch 6/100\n",
            "5/5 [==============================] - 2s 340ms/step - loss: 91.1777 - mae: 91.6767 - lr: 1.7783e-04\n",
            "Epoch 7/100\n",
            "5/5 [==============================] - 2s 342ms/step - loss: 135.2188 - mae: 135.7180 - lr: 1.9953e-04\n",
            "Epoch 8/100\n",
            "5/5 [==============================] - 2s 337ms/step - loss: 113.8599 - mae: 114.3599 - lr: 2.2387e-04\n",
            "Epoch 9/100\n",
            "5/5 [==============================] - 2s 340ms/step - loss: 107.1750 - mae: 107.6741 - lr: 2.5119e-04\n",
            "Epoch 10/100\n",
            "5/5 [==============================] - 2s 347ms/step - loss: 105.8273 - mae: 106.3273 - lr: 2.8184e-04\n",
            "Epoch 11/100\n",
            "5/5 [==============================] - 2s 349ms/step - loss: 111.9236 - mae: 112.4232 - lr: 3.1623e-04\n",
            "Epoch 12/100\n",
            "5/5 [==============================] - 2s 345ms/step - loss: 110.2695 - mae: 110.7690 - lr: 3.5481e-04\n",
            "Epoch 13/100\n",
            "5/5 [==============================] - 2s 353ms/step - loss: 110.5945 - mae: 111.0942 - lr: 3.9811e-04\n",
            "Epoch 14/100\n",
            "5/5 [==============================] - 2s 338ms/step - loss: 106.8972 - mae: 107.3965 - lr: 4.4668e-04\n",
            "Epoch 15/100\n",
            "5/5 [==============================] - 2s 348ms/step - loss: 108.9318 - mae: 109.4316 - lr: 5.0119e-04\n",
            "Epoch 16/100\n",
            "5/5 [==============================] - 2s 350ms/step - loss: 108.9592 - mae: 109.4592 - lr: 5.6234e-04\n",
            "Epoch 17/100\n",
            "5/5 [==============================] - 2s 342ms/step - loss: 107.9780 - mae: 108.4775 - lr: 6.3096e-04\n",
            "Epoch 18/100\n",
            "5/5 [==============================] - 2s 337ms/step - loss: 108.4018 - mae: 108.9013 - lr: 7.0795e-04\n",
            "Epoch 19/100\n",
            "5/5 [==============================] - 2s 342ms/step - loss: 114.1157 - mae: 114.6157 - lr: 7.9433e-04\n",
            "Epoch 20/100\n",
            "5/5 [==============================] - 2s 336ms/step - loss: 108.8241 - mae: 109.3240 - lr: 8.9125e-04\n",
            "Epoch 21/100\n",
            "5/5 [==============================] - 2s 348ms/step - loss: 108.7596 - mae: 109.2590 - lr: 0.0010\n",
            "Epoch 22/100\n",
            "5/5 [==============================] - 2s 333ms/step - loss: 107.6108 - mae: 108.1098 - lr: 0.0011\n",
            "Epoch 23/100\n",
            "5/5 [==============================] - 2s 338ms/step - loss: 107.3982 - mae: 107.8978 - lr: 0.0013\n",
            "Epoch 24/100\n",
            "5/5 [==============================] - 2s 338ms/step - loss: 108.0581 - mae: 108.5577 - lr: 0.0014\n",
            "Epoch 25/100\n",
            "5/5 [==============================] - 2s 342ms/step - loss: 109.6952 - mae: 110.1951 - lr: 0.0016\n",
            "Epoch 26/100\n",
            "5/5 [==============================] - 2s 341ms/step - loss: 110.8704 - mae: 111.3694 - lr: 0.0018\n",
            "Epoch 27/100\n",
            "5/5 [==============================] - 2s 336ms/step - loss: 109.8390 - mae: 110.3386 - lr: 0.0020\n",
            "Epoch 28/100\n",
            "5/5 [==============================] - 2s 337ms/step - loss: 112.5380 - mae: 113.0338 - lr: 0.0022\n",
            "Epoch 29/100\n",
            "5/5 [==============================] - 2s 341ms/step - loss: 109.9260 - mae: 110.4252 - lr: 0.0025\n",
            "Epoch 30/100\n",
            "5/5 [==============================] - 2s 340ms/step - loss: 159.0433 - mae: 159.5429 - lr: 0.0028\n",
            "Epoch 31/100\n",
            "5/5 [==============================] - 2s 335ms/step - loss: 301.3464 - mae: 301.8464 - lr: 0.0032\n",
            "Epoch 32/100\n",
            "5/5 [==============================] - 2s 337ms/step - loss: 411.5638 - mae: 412.0638 - lr: 0.0035\n",
            "Epoch 33/100\n",
            "5/5 [==============================] - 2s 339ms/step - loss: 723.0313 - mae: 723.5313 - lr: 0.0040\n",
            "Epoch 34/100\n",
            "5/5 [==============================] - 2s 342ms/step - loss: 435.0184 - mae: 435.5184 - lr: 0.0045\n",
            "Epoch 35/100\n",
            "5/5 [==============================] - 2s 339ms/step - loss: 608.8006 - mae: 609.3006 - lr: 0.0050\n",
            "Epoch 36/100\n",
            "5/5 [==============================] - 2s 344ms/step - loss: 1162.0898 - mae: 1162.5894 - lr: 0.0056\n",
            "Epoch 37/100\n",
            "5/5 [==============================] - 2s 342ms/step - loss: 923.2793 - mae: 923.7793 - lr: 0.0063\n",
            "Epoch 38/100\n",
            "5/5 [==============================] - 2s 342ms/step - loss: 1277.1162 - mae: 1277.6162 - lr: 0.0071\n",
            "Epoch 39/100\n",
            "5/5 [==============================] - 2s 347ms/step - loss: 409.8930 - mae: 410.3929 - lr: 0.0079\n",
            "Epoch 40/100\n",
            "5/5 [==============================] - 2s 338ms/step - loss: 1264.5344 - mae: 1265.0344 - lr: 0.0089\n",
            "Epoch 41/100\n",
            "5/5 [==============================] - 2s 346ms/step - loss: 1379.9666 - mae: 1380.4666 - lr: 0.0100\n",
            "Epoch 42/100\n",
            "5/5 [==============================] - 2s 340ms/step - loss: 2052.6929 - mae: 2053.1929 - lr: 0.0112\n",
            "Epoch 43/100\n",
            "5/5 [==============================] - 2s 337ms/step - loss: 1597.6747 - mae: 1598.1747 - lr: 0.0126\n",
            "Epoch 44/100\n",
            "5/5 [==============================] - 2s 351ms/step - loss: 2072.1426 - mae: 2072.6426 - lr: 0.0141\n",
            "Epoch 45/100\n",
            "5/5 [==============================] - 2s 345ms/step - loss: 2878.8467 - mae: 2879.3467 - lr: 0.0158\n",
            "Epoch 46/100\n",
            "5/5 [==============================] - 2s 345ms/step - loss: 2092.7407 - mae: 2093.2407 - lr: 0.0178\n",
            "Epoch 47/100\n",
            "5/5 [==============================] - 2s 341ms/step - loss: 2804.5564 - mae: 2805.0564 - lr: 0.0200\n",
            "Epoch 48/100\n",
            "5/5 [==============================] - 2s 342ms/step - loss: 4396.3936 - mae: 4396.8936 - lr: 0.0224\n",
            "Epoch 49/100\n",
            "5/5 [==============================] - 2s 352ms/step - loss: 6977.9702 - mae: 6978.4702 - lr: 0.0251\n",
            "Epoch 50/100\n",
            "5/5 [==============================] - 3s 530ms/step - loss: 4621.9370 - mae: 4622.4370 - lr: 0.0282\n",
            "Epoch 51/100\n",
            "5/5 [==============================] - 2s 341ms/step - loss: 2899.6860 - mae: 2900.1860 - lr: 0.0316\n",
            "Epoch 52/100\n",
            "5/5 [==============================] - 2s 338ms/step - loss: 3534.4639 - mae: 3534.9639 - lr: 0.0355\n",
            "Epoch 53/100\n",
            "5/5 [==============================] - 2s 336ms/step - loss: 6435.9268 - mae: 6436.4268 - lr: 0.0398\n",
            "Epoch 54/100\n",
            "5/5 [==============================] - 2s 339ms/step - loss: 2158.8767 - mae: 2159.3767 - lr: 0.0447\n",
            "Epoch 55/100\n",
            "5/5 [==============================] - 2s 341ms/step - loss: 7294.8628 - mae: 7295.3628 - lr: 0.0501\n",
            "Epoch 56/100\n",
            "5/5 [==============================] - 2s 337ms/step - loss: 8659.6973 - mae: 8660.1963 - lr: 0.0562\n",
            "Epoch 57/100\n",
            "5/5 [==============================] - 2s 341ms/step - loss: 5953.6694 - mae: 5954.1694 - lr: 0.0631\n",
            "Epoch 58/100\n",
            "5/5 [==============================] - 2s 341ms/step - loss: 5232.0605 - mae: 5232.5605 - lr: 0.0708\n",
            "Epoch 59/100\n",
            "5/5 [==============================] - 2s 341ms/step - loss: 7598.6475 - mae: 7599.1475 - lr: 0.0794\n",
            "Epoch 60/100\n",
            "5/5 [==============================] - 2s 341ms/step - loss: 7837.7339 - mae: 7838.2339 - lr: 0.0891\n",
            "Epoch 61/100\n",
            "5/5 [==============================] - 2s 341ms/step - loss: 8447.6045 - mae: 8448.1045 - lr: 0.1000\n",
            "Epoch 62/100\n",
            "5/5 [==============================] - 2s 340ms/step - loss: 27163.6172 - mae: 27164.1172 - lr: 0.1122\n",
            "Epoch 63/100\n",
            "5/5 [==============================] - 2s 344ms/step - loss: 36579.4102 - mae: 36579.9141 - lr: 0.1259\n",
            "Epoch 64/100\n",
            "5/5 [==============================] - 2s 337ms/step - loss: 10540.1240 - mae: 10540.6240 - lr: 0.1413\n",
            "Epoch 65/100\n",
            "5/5 [==============================] - 2s 338ms/step - loss: 15031.9883 - mae: 15032.4893 - lr: 0.1585\n",
            "Epoch 66/100\n",
            "5/5 [==============================] - 2s 341ms/step - loss: 16057.7139 - mae: 16058.2148 - lr: 0.1778\n",
            "Epoch 67/100\n",
            "5/5 [==============================] - 2s 341ms/step - loss: 17547.5664 - mae: 17548.0645 - lr: 0.1995\n",
            "Epoch 68/100\n",
            "5/5 [==============================] - 2s 339ms/step - loss: 51288.8242 - mae: 51289.3242 - lr: 0.2239\n",
            "Epoch 69/100\n",
            "5/5 [==============================] - 2s 335ms/step - loss: 74220.9609 - mae: 74221.4688 - lr: 0.2512\n",
            "Epoch 70/100\n",
            "5/5 [==============================] - 2s 331ms/step - loss: 20902.6055 - mae: 20903.1035 - lr: 0.2818\n",
            "Epoch 71/100\n",
            "5/5 [==============================] - 2s 340ms/step - loss: 35461.8633 - mae: 35462.3633 - lr: 0.3162\n",
            "Epoch 72/100\n",
            "5/5 [==============================] - 2s 332ms/step - loss: 63661.6562 - mae: 63662.1562 - lr: 0.3548\n",
            "Epoch 73/100\n",
            "5/5 [==============================] - 2s 335ms/step - loss: 62709.0664 - mae: 62709.5664 - lr: 0.3981\n",
            "Epoch 74/100\n",
            "5/5 [==============================] - 2s 327ms/step - loss: 75257.0781 - mae: 75257.5781 - lr: 0.4467\n",
            "Epoch 75/100\n",
            "5/5 [==============================] - 2s 328ms/step - loss: 30579.5508 - mae: 30580.0508 - lr: 0.5012\n",
            "Epoch 76/100\n",
            "5/5 [==============================] - 2s 332ms/step - loss: 75255.4219 - mae: 75255.9297 - lr: 0.5623\n",
            "Epoch 77/100\n",
            "5/5 [==============================] - 2s 332ms/step - loss: 83673.6719 - mae: 83674.1797 - lr: 0.6310\n",
            "Epoch 78/100\n",
            "5/5 [==============================] - 2s 329ms/step - loss: 71290.6797 - mae: 71291.1797 - lr: 0.7079\n",
            "Epoch 79/100\n",
            "5/5 [==============================] - 2s 323ms/step - loss: 128989.8125 - mae: 128990.3125 - lr: 0.7943\n",
            "Epoch 80/100\n",
            "5/5 [==============================] - 2s 331ms/step - loss: 43894.6836 - mae: 43895.1875 - lr: 0.8913\n",
            "Epoch 81/100\n",
            "5/5 [==============================] - 2s 327ms/step - loss: 194857.9219 - mae: 194858.4062 - lr: 1.0000\n",
            "Epoch 82/100\n",
            "5/5 [==============================] - 2s 329ms/step - loss: 330083.3750 - mae: 330083.8438 - lr: 1.1220\n",
            "Epoch 83/100\n",
            "5/5 [==============================] - 2s 325ms/step - loss: 175898.6094 - mae: 175899.1094 - lr: 1.2589\n",
            "Epoch 84/100\n",
            "5/5 [==============================] - 2s 329ms/step - loss: 89104.4766 - mae: 89104.9766 - lr: 1.4125\n",
            "Epoch 85/100\n",
            "5/5 [==============================] - 2s 328ms/step - loss: 139105.9531 - mae: 139106.4531 - lr: 1.5849\n",
            "Epoch 86/100\n",
            "5/5 [==============================] - 2s 327ms/step - loss: 145145.0781 - mae: 145145.5625 - lr: 1.7783\n",
            "Epoch 87/100\n",
            "5/5 [==============================] - 2s 330ms/step - loss: 164087.9062 - mae: 164088.4219 - lr: 1.9953\n",
            "Epoch 88/100\n",
            "5/5 [==============================] - 2s 333ms/step - loss: 174480.9688 - mae: 174481.4531 - lr: 2.2387\n",
            "Epoch 89/100\n",
            "5/5 [==============================] - 2s 329ms/step - loss: 232909.5938 - mae: 232910.0938 - lr: 2.5119\n",
            "Epoch 90/100\n",
            "5/5 [==============================] - 2s 328ms/step - loss: 206775.8594 - mae: 206776.3594 - lr: 2.8184\n",
            "Epoch 91/100\n",
            "5/5 [==============================] - 2s 328ms/step - loss: 305403.4375 - mae: 305403.9375 - lr: 3.1623\n",
            "Epoch 92/100\n",
            "5/5 [==============================] - 2s 325ms/step - loss: 286176.4688 - mae: 286176.9688 - lr: 3.5481\n",
            "Epoch 93/100\n",
            "5/5 [==============================] - 2s 329ms/step - loss: 358859.5625 - mae: 358860.0625 - lr: 3.9811\n",
            "Epoch 94/100\n",
            "5/5 [==============================] - 2s 329ms/step - loss: 329889.6250 - mae: 329890.1562 - lr: 4.4668\n",
            "Epoch 95/100\n",
            "5/5 [==============================] - 2s 324ms/step - loss: 482089.9062 - mae: 482090.4375 - lr: 5.0119\n",
            "Epoch 96/100\n",
            "5/5 [==============================] - 2s 329ms/step - loss: 447277.2812 - mae: 447277.8125 - lr: 5.6234\n",
            "Epoch 97/100\n",
            "5/5 [==============================] - 2s 325ms/step - loss: 574969.9375 - mae: 574970.5000 - lr: 6.3096\n",
            "Epoch 98/100\n",
            "5/5 [==============================] - 2s 323ms/step - loss: 530566.0000 - mae: 530566.5000 - lr: 7.0795\n",
            "Epoch 99/100\n",
            "5/5 [==============================] - 2s 331ms/step - loss: 756350.1875 - mae: 756350.6875 - lr: 7.9433\n",
            "Epoch 100/100\n",
            "5/5 [==============================] - 2s 329ms/step - loss: 700656.7500 - mae: 700657.2500 - lr: 8.9125\n"
          ]
        }
      ]
    },
    {
      "cell_type": "code",
      "source": [
        "plt.semilogx(lr_history.history[\"lr\"], lr_history.history[\"loss\"])\n",
        "plt.axis([1e-8, 1e8, 0, 10])"
      ],
      "metadata": {
        "id": "Kgo2Osv9kmGk",
        "outputId": "843adc55-3b65-4400-d8f1-0705522f587c",
        "colab": {
          "base_uri": "https://localhost:8080/",
          "height": 290
        }
      },
      "execution_count": 45,
      "outputs": [
        {
          "output_type": "execute_result",
          "data": {
            "text/plain": [
              "(1e-08, 100000000.0, 0.0, 10.0)"
            ]
          },
          "metadata": {},
          "execution_count": 45
        },
        {
          "output_type": "display_data",
          "data": {
            "text/plain": [
              "<Figure size 432x288 with 1 Axes>"
            ],
            "image/png": "[encoded data removed]"
          },
          "metadata": {
            "needs_background": "light"
          }
        }
      ]
    },
    {
      "cell_type": "markdown",
      "source": [
        "## **Compiling the model**"
      ],
      "metadata": {
        "id": "X_9YTiINlsWE"
      }
    },
    {
      "cell_type": "code",
      "source": [
        "def create_model():\n",
        "\n",
        "    \n",
        "    model = create_uncompiled_model()\n",
        "\n",
        "    model.compile(loss=tf.keras.losses.Huber(),\n",
        "                  optimizer=tf.keras.optimizers.Adam(learning_rate = 0.0001),\n",
        "                  metrics=[\"mae\"])  \n",
        "    \n",
        "    return model"
      ],
      "metadata": {
        "id": "70iRHkkfloI9"
      },
      "execution_count": 30,
      "outputs": []
    },
    {
      "cell_type": "code",
      "source": [
        "# Save an instance of the model\n",
        "model = create_model()\n",
        "\n",
        "# Train it\n",
        "history = model.fit(train_set, epochs=50)"
      ],
      "metadata": {
        "id": "AzuJXjNYlzGx",
        "outputId": "b6f73004-738a-451c-b41b-824fa8a90949",
        "colab": {
          "base_uri": "https://localhost:8080/"
        }
      },
      "execution_count": 31,
      "outputs": [
        {
          "output_type": "stream",
          "name": "stdout",
          "text": [
            "Epoch 1/50\n",
            "5/5 [==============================] - 6s 336ms/step - loss: 101.2124 - mae: 101.7074\n",
            "Epoch 2/50\n",
            "5/5 [==============================] - 2s 330ms/step - loss: 66.7390 - mae: 67.2360\n",
            "Epoch 3/50\n",
            "5/5 [==============================] - 2s 328ms/step - loss: 43.4106 - mae: 43.9069\n",
            "Epoch 4/50\n",
            "5/5 [==============================] - 2s 332ms/step - loss: 29.0689 - mae: 29.5499\n",
            "Epoch 5/50\n",
            "5/5 [==============================] - 2s 327ms/step - loss: 23.4336 - mae: 23.9196\n",
            "Epoch 6/50\n",
            "5/5 [==============================] - 2s 328ms/step - loss: 21.6864 - mae: 22.1732\n",
            "Epoch 7/50\n",
            "5/5 [==============================] - 2s 324ms/step - loss: 20.9132 - mae: 21.3915\n",
            "Epoch 8/50\n",
            "5/5 [==============================] - 2s 325ms/step - loss: 19.2263 - mae: 19.6983\n",
            "Epoch 9/50\n",
            "5/5 [==============================] - 2s 330ms/step - loss: 18.1436 - mae: 18.6195\n",
            "Epoch 10/50\n",
            "5/5 [==============================] - 2s 334ms/step - loss: 17.3377 - mae: 17.8146\n",
            "Epoch 11/50\n",
            "5/5 [==============================] - 2s 328ms/step - loss: 15.7885 - mae: 16.2573\n",
            "Epoch 12/50\n",
            "5/5 [==============================] - 3s 501ms/step - loss: 13.9595 - mae: 14.4201\n",
            "Epoch 13/50\n",
            "5/5 [==============================] - 2s 324ms/step - loss: 12.7467 - mae: 13.2055\n",
            "Epoch 14/50\n",
            "5/5 [==============================] - 2s 335ms/step - loss: 11.1786 - mae: 11.6422\n",
            "Epoch 15/50\n",
            "5/5 [==============================] - 2s 325ms/step - loss: 10.5700 - mae: 11.0364\n",
            "Epoch 16/50\n",
            "5/5 [==============================] - 2s 328ms/step - loss: 9.4979 - mae: 9.9642\n",
            "Epoch 17/50\n",
            "5/5 [==============================] - 2s 328ms/step - loss: 10.6315 - mae: 11.0991\n",
            "Epoch 18/50\n",
            "5/5 [==============================] - 2s 328ms/step - loss: 11.6063 - mae: 12.0871\n",
            "Epoch 19/50\n",
            "5/5 [==============================] - 2s 323ms/step - loss: 9.6368 - mae: 10.1176\n",
            "Epoch 20/50\n",
            "5/5 [==============================] - 2s 332ms/step - loss: 8.7713 - mae: 9.2563\n",
            "Epoch 21/50\n",
            "5/5 [==============================] - 2s 331ms/step - loss: 8.3501 - mae: 8.8350\n",
            "Epoch 22/50\n",
            "5/5 [==============================] - 2s 330ms/step - loss: 7.6187 - mae: 8.0892\n",
            "Epoch 23/50\n",
            "5/5 [==============================] - 2s 323ms/step - loss: 7.6343 - mae: 8.1041\n",
            "Epoch 24/50\n",
            "5/5 [==============================] - 2s 329ms/step - loss: 7.4897 - mae: 7.9608\n",
            "Epoch 25/50\n",
            "5/5 [==============================] - 2s 330ms/step - loss: 7.4061 - mae: 7.8594\n",
            "Epoch 26/50\n",
            "5/5 [==============================] - 2s 333ms/step - loss: 7.0618 - mae: 7.5297\n",
            "Epoch 27/50\n",
            "5/5 [==============================] - 2s 331ms/step - loss: 7.0734 - mae: 7.5389\n",
            "Epoch 28/50\n",
            "5/5 [==============================] - 2s 333ms/step - loss: 6.9971 - mae: 7.4509\n",
            "Epoch 29/50\n",
            "5/5 [==============================] - 2s 330ms/step - loss: 6.8095 - mae: 7.2602\n",
            "Epoch 30/50\n",
            "5/5 [==============================] - 2s 329ms/step - loss: 6.7419 - mae: 7.1921\n",
            "Epoch 31/50\n",
            "5/5 [==============================] - 2s 329ms/step - loss: 7.4837 - mae: 7.9533\n",
            "Epoch 32/50\n",
            "5/5 [==============================] - 2s 328ms/step - loss: 7.5806 - mae: 8.0604\n",
            "Epoch 33/50\n",
            "5/5 [==============================] - 2s 328ms/step - loss: 7.6939 - mae: 8.1823\n",
            "Epoch 34/50\n",
            "5/5 [==============================] - 2s 331ms/step - loss: 7.1325 - mae: 7.6152\n",
            "Epoch 35/50\n",
            "5/5 [==============================] - 2s 337ms/step - loss: 6.8201 - mae: 7.2748\n",
            "Epoch 36/50\n",
            "5/5 [==============================] - 2s 330ms/step - loss: 6.6240 - mae: 7.0843\n",
            "Epoch 37/50\n",
            "5/5 [==============================] - 2s 331ms/step - loss: 6.7364 - mae: 7.2004\n",
            "Epoch 38/50\n",
            "5/5 [==============================] - 2s 334ms/step - loss: 6.9425 - mae: 7.4121\n",
            "Epoch 39/50\n",
            "5/5 [==============================] - 2s 335ms/step - loss: 6.9010 - mae: 7.3805\n",
            "Epoch 40/50\n",
            "5/5 [==============================] - 2s 331ms/step - loss: 6.5415 - mae: 6.9990\n",
            "Epoch 41/50\n",
            "5/5 [==============================] - 2s 325ms/step - loss: 6.0949 - mae: 6.5488\n",
            "Epoch 42/50\n",
            "5/5 [==============================] - 2s 327ms/step - loss: 6.0181 - mae: 6.4519\n",
            "Epoch 43/50\n",
            "5/5 [==============================] - 2s 336ms/step - loss: 6.0615 - mae: 6.4968\n",
            "Epoch 44/50\n",
            "5/5 [==============================] - 2s 330ms/step - loss: 6.1805 - mae: 6.6378\n",
            "Epoch 45/50\n",
            "5/5 [==============================] - 2s 332ms/step - loss: 6.0735 - mae: 6.5388\n",
            "Epoch 46/50\n",
            "5/5 [==============================] - 2s 481ms/step - loss: 6.0914 - mae: 6.5584\n",
            "Epoch 47/50\n",
            "5/5 [==============================] - 2s 334ms/step - loss: 5.9621 - mae: 6.4171\n",
            "Epoch 48/50\n",
            "5/5 [==============================] - 2s 330ms/step - loss: 6.3330 - mae: 6.7737\n",
            "Epoch 49/50\n",
            "5/5 [==============================] - 2s 339ms/step - loss: 6.1411 - mae: 6.5756\n",
            "Epoch 50/50\n",
            "5/5 [==============================] - 2s 330ms/step - loss: 5.9632 - mae: 6.4058\n"
          ]
        }
      ]
    },
    {
      "cell_type": "markdown",
      "source": [
        "# **Evaluate the forecast**"
      ],
      "metadata": {
        "id": "Mz60JGHMmaKi"
      }
    },
    {
      "cell_type": "code",
      "source": [
        "def compute_metrics(true_series, forecast):\n",
        "    \n",
        "    mse = tf.keras.metrics.mean_squared_error(true_series, forecast).numpy()\n",
        "    mae = tf.keras.metrics.mean_absolute_error(true_series, forecast).numpy()\n",
        "\n",
        "    return mse, mae"
      ],
      "metadata": {
        "id": "Q4FNuU3Jl3ra"
      },
      "execution_count": 32,
      "outputs": []
    },
    {
      "cell_type": "markdown",
      "source": [
        "## **Faster model Forecast**"
      ],
      "metadata": {
        "id": "1PLF-KGNmfkW"
      }
    },
    {
      "cell_type": "code",
      "source": [
        "def model_forecast(model, series, window_size):\n",
        "    ds = tf.data.Dataset.from_tensor_slices(series)\n",
        "    ds = ds.window(window_size, shift=1, drop_remainder=True)\n",
        "    ds = ds.flat_map(lambda w: w.batch(window_size))\n",
        "    ds = ds.batch(32).prefetch(1)\n",
        "    forecast = model.predict(ds)\n",
        "    return forecast"
      ],
      "metadata": {
        "id": "KWkYkERBmeFN"
      },
      "execution_count": 33,
      "outputs": []
    },
    {
      "cell_type": "code",
      "source": [
        "# Compute the forecast for all the series\n",
        "rnn_forecast = model_forecast(model, G.SERIES, G.WINDOW_SIZE).squeeze()\n",
        "\n",
        "# Slice the forecast to get only the predictions for the validation set\n",
        "rnn_forecast = rnn_forecast[G.SPLIT_TIME - G.WINDOW_SIZE:-1]\n",
        "\n",
        "# Plot the forecast\n",
        "plt.figure(figsize=(10, 6))\n",
        "plot_series(time_valid, series_valid)\n",
        "plot_series(time_valid, rnn_forecast)"
      ],
      "metadata": {
        "id": "x1FxnthFmxJ6",
        "outputId": "798370f8-4047-4af6-f151-9f65e63b9264",
        "colab": {
          "base_uri": "https://localhost:8080/",
          "height": 405
        }
      },
      "execution_count": 34,
      "outputs": [
        {
          "output_type": "stream",
          "name": "stdout",
          "text": [
            "38/38 [==============================] - 3s 25ms/step\n"
          ]
        },
        {
          "output_type": "display_data",
          "data": {
            "text/plain": [
              "<Figure size 720x432 with 1 Axes>"
            ],
            "image/png": "[encoded data removed]"
          },
          "metadata": {
            "needs_background": "light"
          }
        }
      ]
    },
    {
      "cell_type": "code",
      "source": [],
      "metadata": {
        "id": "LnPw_zZ7m1ML"
      },
      "execution_count": null,
      "outputs": []
    }
  ]
}
