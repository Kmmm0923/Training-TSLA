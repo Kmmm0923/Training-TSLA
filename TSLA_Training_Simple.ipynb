{
  "nbformat": 4,
  "nbformat_minor": 0,
  "metadata": {
    "colab": {
      "provenance": []
    },
    "kernelspec": {
      "name": "python3",
      "display_name": "Python 3"
    },
    "language_info": {
      "name": "python"
    }
  },
  "cells": [
    {
      "cell_type": "code",
      "execution_count": null,
      "metadata": {
        "id": "QUmEVVKVBfi5"
      },
      "outputs": [],
      "source": [
        "#<a href=\"https://colab.research.google.com/github/https-deeplearning-ai/tensorflow-1-public/blob/main/C4/W4/ungraded_labs/C4_W4_Lab_1_LSTM.ipynb\" target=\"_parent\">\n",
        "#<img src=\"https://colab.research.google.com/assets/colab-badge.svg\" \n",
        "#alt=\"Open In Colab\"/></a>"
      ]
    }
  ]
}